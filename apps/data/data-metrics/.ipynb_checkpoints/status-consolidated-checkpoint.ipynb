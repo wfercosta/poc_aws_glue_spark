{
 "cells": [
  {
   "cell_type": "code",
   "execution_count": 1,
   "metadata": {
    "scrolled": true
   },
   "outputs": [
    {
     "name": "stdout",
     "output_type": "stream",
     "text": [
      "Starting Spark application\n"
     ]
    },
    {
     "data": {
      "text/html": [
       "<table>\n",
       "<tr><th>ID</th><th>YARN Application ID</th><th>Kind</th><th>State</th><th>Spark UI</th><th>Driver log</th><th>Current session?</th></tr><tr><td>1</td><td>None</td><td>pyspark</td><td>idle</td><td></td><td></td><td>✔</td></tr></table>"
      ],
      "text/plain": [
       "<IPython.core.display.HTML object>"
      ]
     },
     "metadata": {},
     "output_type": "display_data"
    },
    {
     "data": {
      "application/vnd.jupyter.widget-view+json": {
       "model_id": "",
       "version_major": 2,
       "version_minor": 0
      },
      "text/plain": [
       "FloatProgress(value=0.0, bar_style='info', description='Progress:', layout=Layout(height='25px', width='50%'),…"
      ]
     },
     "metadata": {},
     "output_type": "display_data"
    },
    {
     "name": "stdout",
     "output_type": "stream",
     "text": [
      "SparkSession available as 'spark'.\n"
     ]
    },
    {
     "data": {
      "application/vnd.jupyter.widget-view+json": {
       "model_id": "",
       "version_major": 2,
       "version_minor": 0
      },
      "text/plain": [
       "FloatProgress(value=0.0, bar_style='info', description='Progress:', layout=Layout(height='25px', width='50%'),…"
      ]
     },
     "metadata": {},
     "output_type": "display_data"
    },
    {
     "name": "stdout",
     "output_type": "stream",
     "text": [
      "+----------+------------+------------+-------+--------------------+------+-------------+-------------------+\n",
      "|      date|     context|      family|version|            resource|status|response_time|          timestamp|\n",
      "+----------+------------+------------+-------+--------------------+------+-------------+-------------------+\n",
      "|2021-05-11|open-banking|    accounts|     v1|           /accounts|   200|          112|2022-01-17 13:50:00|\n",
      "|2021-05-11|open-banking|    accounts|     v1|      /accounts/{id}|   200|          112|2022-01-17 13:50:00|\n",
      "|2021-05-11|open-banking|    accounts|     v1|/accounts/{id}/tr...|   200|          112|2022-01-17 13:50:00|\n",
      "|2021-05-11|open-banking|    accounts|     v1|/accounts/{id}/ba...|   200|          112|2022-01-17 13:50:00|\n",
      "|2021-05-11|open-banking|       loans|     v1|              /loans|   200|          112|2022-01-17 13:50:00|\n",
      "|2021-05-11|open-banking|       loans|     v1|         /loans/{id}|   200|          112|2022-01-17 13:50:00|\n",
      "|2021-05-11|open-banking|credit-cards|     v1|           /accounts|   200|          112|2022-01-17 13:50:00|\n",
      "|2021-05-11|open-banking|credit-cards|     v1|      /accounts/{id}|   200|          112|2022-01-17 13:50:00|\n",
      "|2021-05-11|open-banking|credit-cards|     v1|/accounts/{id}/ba...|   200|          112|2022-01-17 13:50:00|\n",
      "|2021-05-11|open-banking|credit-cards|     v1|/accounts/{id}/tr...|   200|          112|2022-01-17 13:50:00|\n",
      "|      null|        null|        null|   null|                null|  null|         null|               null|\n",
      "|      null|        null|        null|   null|                null|  null|         null|               null|\n",
      "+----------+------------+------------+-------+--------------------+------+-------------+-------------------+\n",
      "\n",
      "root\n",
      " |-- date: date (nullable = true)\n",
      " |-- context: string (nullable = true)\n",
      " |-- family: string (nullable = true)\n",
      " |-- version: string (nullable = true)\n",
      " |-- resource: string (nullable = true)\n",
      " |-- status: string (nullable = true)\n",
      " |-- response_time: integer (nullable = true)\n",
      " |-- timestamp: timestamp (nullable = true)"
     ]
    }
   ],
   "source": [
    "import json\n",
    "from datetime import datetime\n",
    "from functools import reduce\n",
    "from collections import defaultdict\n",
    "from pyspark import SparkContext\n",
    "from pyspark.sql import functions as F\n",
    "from pyspark.sql.window import Window\n",
    "from awsglue.context import GlueContext\n",
    "\n",
    "gc = GlueContext(SparkContext.getOrCreate())\n",
    "\n",
    "ddf = gc.create_dynamic_frame_from_options(\"s3\"\\\n",
    "                                          , {\"paths\": [\"s3://wfercosta-spark/logs/DAILY_20220117.csv\"]}\\\n",
    "                                          ,\"csv\"\\\n",
    "                                          ,{'withHeader':True})\n",
    "        \n",
    "df = ddf.toDF()\n",
    "\n",
    "df = df.withColumn('date', F.to_date(df.date))\n",
    "df = df.withColumn('timestamp', F.to_timestamp(df.timestamp))\n",
    "df = df.withColumn('response_time', df.response_time.cast('int'))\n",
    "\n",
    "df.show()\n",
    "\n",
    "df.printSchema()"
   ]
  },
  {
   "cell_type": "code",
   "execution_count": 2,
   "metadata": {},
   "outputs": [
    {
     "data": {
      "application/vnd.jupyter.widget-view+json": {
       "model_id": "",
       "version_major": 2,
       "version_minor": 0
      },
      "text/plain": [
       "FloatProgress(value=0.0, bar_style='info', description='Progress:', layout=Layout(height='25px', width='50%'),…"
      ]
     },
     "metadata": {},
     "output_type": "display_data"
    },
    {
     "name": "stdout",
     "output_type": "stream",
     "text": [
      "+----------+------------+------------+-------+--------------------+------+-------------+-------------------+---+\n",
      "|      date|     context|      family|version|            resource|status|response_time|          timestamp|row|\n",
      "+----------+------------+------------+-------+--------------------+------+-------------+-------------------+---+\n",
      "|2021-05-11|open-banking|    accounts|     v1|/accounts/{id}/tr...|   200|          112|2022-01-17 13:50:00|  1|\n",
      "|2021-05-11|open-banking|    accounts|     v1|      /accounts/{id}|   200|          112|2022-01-17 13:50:00|  1|\n",
      "|2021-05-11|open-banking|       loans|     v1|         /loans/{id}|   200|          112|2022-01-17 13:50:00|  1|\n",
      "|      null|        null|        null|   null|                null|  null|         null|               null|  1|\n",
      "|2021-05-11|open-banking|    accounts|     v1|           /accounts|   200|          112|2022-01-17 13:50:00|  1|\n",
      "|2021-05-11|open-banking|       loans|     v1|              /loans|   200|          112|2022-01-17 13:50:00|  1|\n",
      "|2021-05-11|open-banking|    accounts|     v1|/accounts/{id}/ba...|   200|          112|2022-01-17 13:50:00|  1|\n",
      "|2021-05-11|open-banking|credit-cards|     v1|           /accounts|   200|          112|2022-01-17 13:50:00|  1|\n",
      "|2021-05-11|open-banking|credit-cards|     v1|/accounts/{id}/ba...|   200|          112|2022-01-17 13:50:00|  1|\n",
      "|2021-05-11|open-banking|credit-cards|     v1|      /accounts/{id}|   200|          112|2022-01-17 13:50:00|  1|\n",
      "|2021-05-11|open-banking|credit-cards|     v1|/accounts/{id}/tr...|   200|          112|2022-01-17 13:50:00|  1|\n",
      "+----------+------------+------------+-------+--------------------+------+-------------+-------------------+---+"
     ]
    }
   ],
   "source": [
    "\n",
    "df_latest = df\n",
    "\n",
    "column_list = ['context', 'family', 'version', 'resource']\n",
    "\n",
    "window = Window().partitionBy([F.col(x) for x in column_list]).orderBy([\\\n",
    "                                                                          F.col('family')\n",
    "                                                                        , F.col('version')\n",
    "                                                                        , F.col('resource')\\\n",
    "                                                                        , F.col('timestamp').desc()])\n",
    "\n",
    "df_latest = df_latest.withColumn('row', F.row_number().over(window))\\\n",
    "    .filter(F.col('row') == 1)\n",
    "\n",
    "df_latest.show()\n",
    "\n"
   ]
  },
  {
   "cell_type": "code",
   "execution_count": 3,
   "metadata": {},
   "outputs": [
    {
     "data": {
      "application/vnd.jupyter.widget-view+json": {
       "model_id": "",
       "version_major": 2,
       "version_minor": 0
      },
      "text/plain": [
       "FloatProgress(value=0.0, bar_style='info', description='Progress:', layout=Layout(height='25px', width='50%'),…"
      ]
     },
     "metadata": {},
     "output_type": "display_data"
    },
    {
     "name": "stdout",
     "output_type": "stream",
     "text": [
      "[\n",
      "  {\n",
      "    \"context\": \"open-banking\",\n",
      "    \"resource\": \"/open-banking/accounts/v1/accounts/{id}/transactions\",\n",
      "    \"unavailable\": false\n",
      "  },\n",
      "  {\n",
      "    \"context\": \"open-banking\",\n",
      "    \"resource\": \"/open-banking/accounts/v1/accounts/{id}\",\n",
      "    \"unavailable\": false\n",
      "  },\n",
      "  {\n",
      "    \"context\": \"open-banking\",\n",
      "    \"resource\": \"/open-banking/loans/v1/loans/{id}\",\n",
      "    \"unavailable\": false\n",
      "  },\n",
      "  {},\n",
      "  {\n",
      "    \"context\": \"open-banking\",\n",
      "    \"resource\": \"/open-banking/accounts/v1/accounts\",\n",
      "    \"unavailable\": false\n",
      "  },\n",
      "  {\n",
      "    \"context\": \"open-banking\",\n",
      "    \"resource\": \"/open-banking/loans/v1/loans\",\n",
      "    \"unavailable\": false\n",
      "  },\n",
      "  {\n",
      "    \"context\": \"open-banking\",\n",
      "    \"resource\": \"/open-banking/accounts/v1/accounts/{id}/balances\",\n",
      "    \"unavailable\": false\n",
      "  },\n",
      "  {\n",
      "    \"context\": \"open-banking\",\n",
      "    \"resource\": \"/open-banking/credit-cards/v1/accounts\",\n",
      "    \"unavailable\": false\n",
      "  },\n",
      "  {\n",
      "    \"context\": \"open-banking\",\n",
      "    \"resource\": \"/open-banking/credit-cards/v1/accounts/{id}/balances\",\n",
      "    \"unavailable\": false\n",
      "  },\n",
      "  {\n",
      "    \"context\": \"open-banking\",\n",
      "    \"resource\": \"/open-banking/credit-cards/v1/accounts/{id}\",\n",
      "    \"unavailable\": false\n",
      "  },\n",
      "  {\n",
      "    \"context\": \"open-banking\",\n",
      "    \"resource\": \"/open-banking/credit-cards/v1/accounts/{id}/transactions\",\n",
      "    \"unavailable\": false\n",
      "  }\n",
      "]"
     ]
    }
   ],
   "source": [
    "\n",
    "\n",
    "df_status = df_latest\n",
    "\n",
    "is_unavailable = lambda status: (status >= 500) & (status < 600)\n",
    "\n",
    "df_status = df_status.withColumn('unavailable', is_unavailable(df_status.status))\n",
    "df_status = df_status.withColumn('resource', F.concat(F.lit('/'), df_status.context\\\n",
    "                                                      , F.lit('/'), df_status.family\\\n",
    "                                                      , F.lit('/'), df_status.version\\\n",
    "                                                      , df_status.resource))\n",
    "\n",
    "df_status = df_status.select(['context', 'resource', 'unavailable'])\n",
    "\n",
    "elements = df_status.toJSON().map(lambda j: json.loads(j)).collect()\n",
    "\n",
    "print(json.dumps(elements, indent=2))"
   ]
  },
  {
   "cell_type": "code",
   "execution_count": 6,
   "metadata": {},
   "outputs": [
    {
     "data": {
      "application/vnd.jupyter.widget-view+json": {
       "model_id": "",
       "version_major": 2,
       "version_minor": 0
      },
      "text/plain": [
       "FloatProgress(value=0.0, bar_style='info', description='Progress:', layout=Layout(height='25px', width='50%'),…"
      ]
     },
     "metadata": {},
     "output_type": "display_data"
    },
    {
     "name": "stderr",
     "output_type": "stream",
     "text": [
      "An error was encountered:\n",
      "'context'\n",
      "Traceback (most recent call last):\n",
      "  File \"<stdin>\", line 6, in group_by_context\n",
      "KeyError: 'context'\n",
      "\n"
     ]
    }
   ],
   "source": [
    "\n",
    "def group_by_context(acc, el):\n",
    "    context = el['context']\n",
    "    del el['context']\n",
    "    acc[context].append(el)\n",
    "    return acc\n",
    "\n",
    "grouped = dict(reduce(group_by_context, elements, defaultdict(list)))\n",
    "\n",
    "print(json.dumps(grouped, indent=2))"
   ]
  },
  {
   "cell_type": "code",
   "execution_count": 5,
   "metadata": {},
   "outputs": [
    {
     "data": {
      "application/vnd.jupyter.widget-view+json": {
       "model_id": "",
       "version_major": 2,
       "version_minor": 0
      },
      "text/plain": [
       "FloatProgress(value=0.0, bar_style='info', description='Progress:', layout=Layout(height='25px', width='50%'),…"
      ]
     },
     "metadata": {},
     "output_type": "display_data"
    },
    {
     "name": "stderr",
     "output_type": "stream",
     "text": [
      "An error was encountered:\n",
      "name 'grouped' is not defined\n",
      "Traceback (most recent call last):\n",
      "NameError: name 'grouped' is not defined\n",
      "\n"
     ]
    }
   ],
   "source": [
    "def get_status(total, unavailables):\n",
    "    diff =  total - unavailables\n",
    "    \n",
    "    if unavailables > 0:\n",
    "        if diff == 0:\n",
    "            return 'UNAVAILABLE'\n",
    "        else:\n",
    "            return 'PARTIAL_FAILURE'\n",
    "    else:\n",
    "        return 'OK'\n",
    "\n",
    "def reduce_count_unavailables(acc, el):\n",
    "    return acc + (1 if el['unavailable'] else 0)\n",
    "    \n",
    "    \n",
    "statuses = list()\n",
    "\n",
    "for key, values in grouped.items():\n",
    "    \n",
    "    count_endpoints = len(values)\n",
    "    count_unavailables = reduce(reduce_count_unavailables, values, 0)\n",
    "    \n",
    "    status = get_status(count_endpoints, count_unavailables)\n",
    "    \n",
    "    unavailables_endpoints = list(map(lambda el: el['resource'], filter(lambda el: el['unavailable'], values)))\n",
    "    \n",
    "    document = {\n",
    "        'context': key,\n",
    "        'status': status,\n",
    "        'unavailableEndpoints': unavailables_endpoints,\n",
    "        'detectionTime': datetime.now().isoformat(),\n",
    "        }\n",
    "    \n",
    "    statuses.append(document)\n",
    "    \n",
    "\n",
    "print(json.dumps(statuses, indent=2))"
   ]
  }
 ],
 "metadata": {
  "kernelspec": {
   "display_name": "PySpark",
   "language": "",
   "name": "pysparkkernel"
  },
  "language_info": {
   "codemirror_mode": {
    "name": "python",
    "version": 3
   },
   "mimetype": "text/x-python",
   "name": "pyspark",
   "pygments_lexer": "python3"
  }
 },
 "nbformat": 4,
 "nbformat_minor": 4
}
