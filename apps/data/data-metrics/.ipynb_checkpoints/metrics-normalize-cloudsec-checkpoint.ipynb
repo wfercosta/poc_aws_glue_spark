{
 "cells": [
  {
   "cell_type": "code",
   "execution_count": 83,
   "metadata": {},
   "outputs": [
    {
     "data": {
      "application/vnd.jupyter.widget-view+json": {
       "model_id": "",
       "version_major": 2,
       "version_minor": 0
      },
      "text/plain": [
       "FloatProgress(value=0.0, bar_style='info', description='Progress:', layout=Layout(height='25px', width='50%'),…"
      ]
     },
     "metadata": {},
     "output_type": "display_data"
    }
   ],
   "source": [
    "import json\n",
    "import re\n",
    "from awsglue.context import GlueContext\n",
    "from pyspark.sql import SparkSession, functions as F\n",
    "from pyspark.sql.types import StructField, StructType, StringType, LongType\n"
   ]
  },
  {
   "cell_type": "code",
   "execution_count": 84,
   "metadata": {},
   "outputs": [
    {
     "data": {
      "application/vnd.jupyter.widget-view+json": {
       "model_id": "",
       "version_major": 2,
       "version_minor": 0
      },
      "text/plain": [
       "FloatProgress(value=0.0, bar_style='info', description='Progress:', layout=Layout(height='25px', width='50%'),…"
      ]
     },
     "metadata": {},
     "output_type": "display_data"
    },
    {
     "name": "stdout",
     "output_type": "stream",
     "text": [
      "['/open-banking/accounts/v1/accounts-id/{param}', '/open-banking/accounts/v1/accounts-id/{param}/a', '/open-banking/accounts/v1/accounts-uuid/{param}', '/open-banking/accounts/v1/accounts-uuid/{param}/', '/open-banking/accounts/v1/accounts-urn/{param}', '/open-banking/accounts/v1/accounts-urn/{param}/', '/open-banking/accounts/v1/accounts-urn/{param}/balances', '/open-banking/accounts/v1/accounts-urn-uuid/{param}/balances/{param}', '/open-banking/accounts/v1/accounts-urn-uuid-id/{param}/balances/{param}/transactions/{param}', '/open-banking/customers/v1/business/qualifications']"
     ]
    }
   ],
   "source": [
    "\n",
    "\n",
    "regex = r'\\/([0-9a-z]{8}-[0-9a-z]{4}-[0-9a-z]{4}-[0-9a-z]{4}-[0-9a-z]{12})\\/?|\\/(urn:[a-z0-9A-z]*:[a-z0-9A-z]+)\\/?|\\/([0-9]+)\\/?'\n",
    "\n",
    "examples = ['/open-banking/accounts/v1/accounts-id/123456789'\n",
    "            ,'/open-banking/accounts/v1/accounts-id/123456789/a'\n",
    "            ,'/open-banking/accounts/v1/accounts-uuid/92490b80-6e37-11ec-ae98-f1480fe51782'\n",
    "            ,'/open-banking/accounts/v1/accounts-uuid/92490b80-6e37-11ec-ae98-f1480fe51782/'\n",
    "            ,'/open-banking/accounts/v1/accounts-urn/urn:isbn:0451450523'\n",
    "            ,'/open-banking/accounts/v1/accounts-urn/urn:isbn:0451450523/'\n",
    "            ,'/open-banking/accounts/v1/accounts-urn/urn:isbn:0451450523/balances'\n",
    "            ,'/open-banking/accounts/v1/accounts-urn-uuid/urn:isbn:0451450523/balances/92490b80-6e37-11ec-ae98-f1480fe51782'\n",
    "            ,'/open-banking/accounts/v1/accounts-urn-uuid-id/urn:isbn:0451450523/balances/92490b80-6e37-11ec-ae98-f1480fe51782/transactions/1'\n",
    "            ,'/open-banking/customers/v1/business/qualifications'\n",
    "           ]\n",
    "\n",
    "\n",
    "def replacer(match):\n",
    "    original = match.group(0)\n",
    "    for idx in range(1, 4):\n",
    "        if match.group(idx):\n",
    "            to_replace = match.group(idx)\n",
    "            return original.replace(to_replace, '{param}')\n",
    "    return original\n",
    "\n",
    "examples = [re.sub(regex, replacer, example) for example in examples]\n",
    "\n",
    "examples"
   ]
  },
  {
   "cell_type": "code",
   "execution_count": null,
   "metadata": {},
   "outputs": [],
   "source": [
    "session = SparkSession.builder.appName(\"test\").getOrCreate() \n",
    "spark = session.sparkContext\n",
    "gc = GlueContext(spark)\n",
    "\n",
    "file =  's3://wfercosta-spark/logs/*.gz'\n",
    "\n",
    "schema = StructType([\n",
    "    StructField(\"date\", StringType(), True),\n",
    "    StructField(\"time\", StringType(), True),\n",
    "    StructField(\"x-edge-location\", StringType(), True),\n",
    "    StructField(\"sc-bytes\", StringType(), True),\n",
    "    StructField(\"c-ip\", StringType(), True),\n",
    "    StructField(\"cs-method\", StringType(), True),\n",
    "    StructField(\"cs(Host)\", StringType(), True),\n",
    "    StructField(\"cs-uri-stem\", StringType(), True),\n",
    "    StructField(\"sc-status\", StringType(), True),\n",
    "    StructField(\"cs(Referer)\", StringType(), True),\n",
    "    StructField(\"cs(User-Agent)\", StringType(), True),\n",
    "    StructField(\"cs-uri-query\", StringType(), True),\n",
    "    StructField(\"cs(Cookie)\", StringType(), True),\n",
    "    StructField(\"x-edge-result-type\", StringType(), True),\n",
    "    StructField(\"x-edge-request-id\", StringType(), True),\n",
    "    StructField(\"x-host-header\", StringType(), True),\n",
    "    StructField(\"cs-protocol\", StringType(), True),\n",
    "    StructField(\"cs-bytes\", StringType(), True),\n",
    "    StructField(\"time-taken\", StringType(), True),\n",
    "    StructField(\"x-forwarded-for\", StringType(), True),\n",
    "    StructField(\"ssl-protocol\", StringType(), True),\n",
    "    StructField(\"ssl-cipher\", StringType(), True),\n",
    "    StructField(\"x-edge-response-result-type\", StringType(), True),\n",
    "    StructField(\"cs-protocol-version\", StringType(), True),\n",
    "    StructField(\"fle-status\", StringType(), True),\n",
    "    StructField(\"fle-encrypted-fields\", StringType(), True),\n",
    "    StructField(\"c-port\", StringType(), True),\n",
    "    StructField(\"time-to-first-byte\", StringType(), True),\n",
    "    StructField(\"x-edge-detailed-result-type\", StringType(), True),\n",
    "    StructField(\"sc-content-type\", StringType(), True),\n",
    "    StructField(\"sc-content-len\", StringType(), True),\n",
    "    StructField(\"sc-range-start\", StringType(), True),\n",
    "    StructField(\"sc-range-end\", StringType(), True),\n",
    "])\n",
    "\n",
    "\n",
    "df = session.read.csv(file, sep=' ', header=False, schema=schema)\n",
    "df = df.withColumn(\"filename\", F.input_file_name())\n",
    "df = df.where(F.col('date').startswith(\"#\") == False)\n",
    "df = df.select(['date', 'time', 'sc-status', 'cs-uri-stem', 'time-taken', 'filename'])\n",
    "\n",
    "\n",
    "df = df.withColumnRenamed(\"sc-status\",\"status\")\n",
    "df = df.withColumnRenamed(\"cs-uri-stem\",\"resource\")\n",
    "df = df.withColumnRenamed(\"time-taken\",\"response_time\")\n",
    "df = df.withColumn(\"timestamp\", F.to_timestamp(F.concat(F.col('date'), F.lit(' '), F.col('time'))))\n",
    "df = df.drop(F.col('time'))\n",
    "\n",
    "df.show()"
   ]
  }
 ],
 "metadata": {
  "kernelspec": {
   "display_name": "PySpark",
   "language": "",
   "name": "pysparkkernel"
  },
  "language_info": {
   "codemirror_mode": {
    "name": "python",
    "version": 3
   },
   "mimetype": "text/x-python",
   "name": "pyspark",
   "pygments_lexer": "python3"
  }
 },
 "nbformat": 4,
 "nbformat_minor": 4
}
