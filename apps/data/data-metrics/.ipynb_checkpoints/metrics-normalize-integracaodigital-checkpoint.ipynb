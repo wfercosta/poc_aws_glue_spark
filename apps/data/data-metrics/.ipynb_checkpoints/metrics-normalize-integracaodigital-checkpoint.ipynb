{
 "cells": [
  {
   "cell_type": "code",
   "execution_count": 1,
   "metadata": {},
   "outputs": [
    {
     "name": "stdout",
     "output_type": "stream",
     "text": [
      "Starting Spark application\n"
     ]
    },
    {
     "data": {
      "text/html": [
       "<table>\n",
       "<tr><th>ID</th><th>YARN Application ID</th><th>Kind</th><th>State</th><th>Spark UI</th><th>Driver log</th><th>Current session?</th></tr><tr><td>0</td><td>None</td><td>pyspark</td><td>idle</td><td></td><td></td><td>✔</td></tr></table>"
      ],
      "text/plain": [
       "<IPython.core.display.HTML object>"
      ]
     },
     "metadata": {},
     "output_type": "display_data"
    },
    {
     "data": {
      "application/vnd.jupyter.widget-view+json": {
       "model_id": "",
       "version_major": 2,
       "version_minor": 0
      },
      "text/plain": [
       "FloatProgress(value=0.0, bar_style='info', description='Progress:', layout=Layout(height='25px', width='50%'),…"
      ]
     },
     "metadata": {},
     "output_type": "display_data"
    },
    {
     "name": "stdout",
     "output_type": "stream",
     "text": [
      "SparkSession available as 'spark'.\n"
     ]
    },
    {
     "data": {
      "application/vnd.jupyter.widget-view+json": {
       "model_id": "",
       "version_major": 2,
       "version_minor": 0
      },
      "text/plain": [
       "FloatProgress(value=0.0, bar_style='info', description='Progress:', layout=Layout(height='25px', width='50%'),…"
      ]
     },
     "metadata": {},
     "output_type": "display_data"
    }
   ],
   "source": [
    "import json\n",
    "import re\n",
    "from datetime import datetime\n",
    "from awsglue.context import GlueContext\n",
    "from pyspark import SparkContext, StorageLevel\n",
    "from pyspark.sql import SparkSession, functions as F\n",
    "from pyspark.sql.types import StructField, StructType, StringType, LongType\n"
   ]
  },
  {
   "cell_type": "code",
   "execution_count": 2,
   "metadata": {},
   "outputs": [
    {
     "data": {
      "application/vnd.jupyter.widget-view+json": {
       "model_id": "",
       "version_major": 2,
       "version_minor": 0
      },
      "text/plain": [
       "FloatProgress(value=0.0, bar_style='info', description='Progress:', layout=Layout(height='25px', width='50%'),…"
      ]
     },
     "metadata": {},
     "output_type": "display_data"
    },
    {
     "name": "stdout",
     "output_type": "stream",
     "text": [
      "+----------+------+--------------------+-------------+--------------------+-------------------+\n",
      "|      date|status|            resource|response_time|            filename|          timestamp|\n",
      "+----------+------+--------------------+-------------+--------------------+-------------------+\n",
      "|2021-05-11|   502|/open-banking/acc...|        0.112|s3://wfercosta-sp...|2021-05-11 03:00:25|\n",
      "|2021-05-11|   502|                   /|        0.112|s3://wfercosta-sp...|2021-05-11 03:00:25|\n",
      "|2021-05-11|   502|                   /|        0.112|s3://wfercosta-sp...|2021-05-11 03:00:25|\n",
      "|2021-05-11|   502|                   /|        0.112|s3://wfercosta-sp...|2021-05-11 03:00:25|\n",
      "+----------+------+--------------------+-------------+--------------------+-------------------+"
     ]
    }
   ],
   "source": [
    "\n",
    "gc = GlueContext(SparkContext.getOrCreate())\n",
    "spark = gc.spark_session\n",
    "\n",
    "file =  's3://wfercosta-spark/logs/*.gz'\n",
    "\n",
    "schema = StructType([\n",
    "    StructField(\"date\", StringType(), True),\n",
    "    StructField(\"time\", StringType(), True),\n",
    "    StructField(\"x-edge-location\", StringType(), True),\n",
    "    StructField(\"sc-bytes\", StringType(), True),\n",
    "    StructField(\"c-ip\", StringType(), True),\n",
    "    StructField(\"cs-method\", StringType(), True),\n",
    "    StructField(\"cs(Host)\", StringType(), True),\n",
    "    StructField(\"cs-uri-stem\", StringType(), True),\n",
    "    StructField(\"sc-status\", StringType(), True),\n",
    "    StructField(\"cs(Referer)\", StringType(), True),\n",
    "    StructField(\"cs(User-Agent)\", StringType(), True),\n",
    "    StructField(\"cs-uri-query\", StringType(), True),\n",
    "    StructField(\"cs(Cookie)\", StringType(), True),\n",
    "    StructField(\"x-edge-result-type\", StringType(), True),\n",
    "    StructField(\"x-edge-request-id\", StringType(), True),\n",
    "    StructField(\"x-host-header\", StringType(), True),\n",
    "    StructField(\"cs-protocol\", StringType(), True),\n",
    "    StructField(\"cs-bytes\", StringType(), True),\n",
    "    StructField(\"time-taken\", StringType(), True),\n",
    "    StructField(\"x-forwarded-for\", StringType(), True),\n",
    "    StructField(\"ssl-protocol\", StringType(), True),\n",
    "    StructField(\"ssl-cipher\", StringType(), True),\n",
    "    StructField(\"x-edge-response-result-type\", StringType(), True),\n",
    "    StructField(\"cs-protocol-version\", StringType(), True),\n",
    "    StructField(\"fle-status\", StringType(), True),\n",
    "    StructField(\"fle-encrypted-fields\", StringType(), True),\n",
    "    StructField(\"c-port\", StringType(), True),\n",
    "    StructField(\"time-to-first-byte\", StringType(), True),\n",
    "    StructField(\"x-edge-detailed-result-type\", StringType(), True),\n",
    "    StructField(\"sc-content-type\", StringType(), True),\n",
    "    StructField(\"sc-content-len\", StringType(), True),\n",
    "    StructField(\"sc-range-start\", StringType(), True),\n",
    "    StructField(\"sc-range-end\", StringType(), True),\n",
    "])\n",
    "\n",
    "\n",
    "df = spark.read.csv(file, sep=' ', header=False, schema=schema)\n",
    "df = df.withColumn(\"filename\", F.input_file_name())\n",
    "df = df.where(F.col('date').startswith(\"#\") == False)\n",
    "df = df.select(['date', 'time', 'sc-status', 'cs-uri-stem', 'time-taken', 'filename'])\n",
    "\n",
    "df = df.withColumnRenamed(\"sc-status\",\"status\")\n",
    "df = df.withColumnRenamed(\"cs-uri-stem\",\"resource\")\n",
    "df = df.withColumnRenamed(\"time-taken\",\"response_time\")\n",
    "df = df.withColumn(\"timestamp\", F.to_timestamp(F.concat(F.col('date'), F.lit(' '), F.col('time'))))\n",
    "df = df.drop(F.col('time'))\n",
    "\n",
    "df.show()"
   ]
  },
  {
   "cell_type": "code",
   "execution_count": 3,
   "metadata": {},
   "outputs": [
    {
     "data": {
      "application/vnd.jupyter.widget-view+json": {
       "model_id": "",
       "version_major": 2,
       "version_minor": 0
      },
      "text/plain": [
       "FloatProgress(value=0.0, bar_style='info', description='Progress:', layout=Layout(height='25px', width='50%'),…"
      ]
     },
     "metadata": {},
     "output_type": "display_data"
    },
    {
     "name": "stdout",
     "output_type": "stream",
     "text": [
      "+----------+------+-------------------------------------------------------------------+-------------+-------------------------------+-------------------+\n",
      "|date      |status|resource                                                           |response_time|filename                       |timestamp          |\n",
      "+----------+------+-------------------------------------------------------------------+-------------+-------------------------------+-------------------+\n",
      "|2021-05-11|502   |/open-banking/accounts/v1/accounts-urn/urn:isbn:0451450523/balances|0.112        |s3://wfercosta-spark/logs/f4.gz|2021-05-11 03:00:25|\n",
      "+----------+------+-------------------------------------------------------------------+-------------+-------------------------------+-------------------+"
     ]
    }
   ],
   "source": [
    "# Remove not required resourcs\n",
    "regex_valid_apis = r'^\\/[a-z-_]+\\/[a-z-_]+\\/v[0-9]{1,2}\\/.+'\n",
    "df_rqd_res = df.filter(df.resource.rlike(regex_valid_apis))\n",
    "df_rqd_res.show(1, False)\n"
   ]
  },
  {
   "cell_type": "code",
   "execution_count": 4,
   "metadata": {},
   "outputs": [
    {
     "data": {
      "application/vnd.jupyter.widget-view+json": {
       "model_id": "",
       "version_major": 2,
       "version_minor": 0
      },
      "text/plain": [
       "FloatProgress(value=0.0, bar_style='info', description='Progress:', layout=Layout(height='25px', width='50%'),…"
      ]
     },
     "metadata": {},
     "output_type": "display_data"
    },
    {
     "name": "stdout",
     "output_type": "stream",
     "text": [
      "+----------+------+--------------------+-------------+--------------------+-------------------+\n",
      "|      date|status|            resource|response_time|            filename|          timestamp|\n",
      "+----------+------+--------------------+-------------+--------------------+-------------------+\n",
      "|2021-05-11|   502|/open-banking/acc...|        0.112|s3://wfercosta-sp...|2021-05-11 03:00:25|\n",
      "+----------+------+--------------------+-------------+--------------------+-------------------+"
     ]
    }
   ],
   "source": [
    "#Normalize resoruce path variables with placeholders\n",
    "\n",
    "regex_norm_placeholders = r'\\/([0-9a-z]{8}-[0-9a-z]{4}-[0-9a-z]{4}-[0-9a-z]{4}-[0-9a-z]{12})|\\/(urn:[a-z0-9A-z]*:[a-z0-9A-z]+)|\\/([0-9]+)'\n",
    "\n",
    "df_norm_placeholders = df_rqd_res.withColumn('resource', F.regexp_replace('resource', regex_norm_placeholders, '\\/{param}'))\n",
    "\n",
    "df_norm_placeholders.show()"
   ]
  },
  {
   "cell_type": "code",
   "execution_count": 5,
   "metadata": {},
   "outputs": [
    {
     "data": {
      "application/vnd.jupyter.widget-view+json": {
       "model_id": "",
       "version_major": 2,
       "version_minor": 0
      },
      "text/plain": [
       "FloatProgress(value=0.0, bar_style='info', description='Progress:', layout=Layout(height='25px', width='50%'),…"
      ]
     },
     "metadata": {},
     "output_type": "display_data"
    },
    {
     "name": "stdout",
     "output_type": "stream",
     "text": [
      "+----------+------------+--------+-------+------------------------------+------+-------------+-------------------+\n",
      "|date      |context     |family  |version|resource                      |status|response_time|timestamp          |\n",
      "+----------+------------+--------+-------+------------------------------+------+-------------+-------------------+\n",
      "|2021-05-11|open-banking|accounts|v1     |/accounts-urn/{param}/balances|502   |0.112        |2021-05-11 03:00:25|\n",
      "+----------+------------+--------+-------+------------------------------+------+-------------+-------------------+"
     ]
    }
   ],
   "source": [
    "#Explodes additional fields\n",
    "\n",
    "regex_extract_context = r'^\\/([a-z_-]+)'\n",
    "regex_extract_family = r'^\\/[a-z_-]+\\/([a-z_-]+)'\n",
    "regex_extract_version = r'^\\/[a-z_-]+\\/[a-z_-]+\\/(v[0-9]{1,2})'\n",
    "regex_extract_resource = r'^\\/[a-z_-]+\\/[a-z_-]+\\/v[0-9]{1,2}(\\/.*)'\n",
    "\n",
    "df_extra_cols = df_norm_placeholders\n",
    "df_extra_cols = df_extra_cols.withColumn('context', F.regexp_extract('resource', regex_extract_context, 1))\n",
    "df_extra_cols = df_extra_cols.withColumn('family', F.regexp_extract('resource', regex_extract_family, 1))\n",
    "df_extra_cols = df_extra_cols.withColumn('version', F.regexp_extract('resource', regex_extract_version, 1))\n",
    "\n",
    "df_extra_cols = df_extra_cols.withColumn('resource', F.regexp_extract('resource', regex_extract_resource, 1))\n",
    "\n",
    "df_extra_cols.select(['date', 'context', 'family', 'version', 'resource', 'status', 'response_time', 'timestamp']).show(20, False)\n"
   ]
  },
  {
   "cell_type": "code",
   "execution_count": 14,
   "metadata": {},
   "outputs": [
    {
     "data": {
      "application/vnd.jupyter.widget-view+json": {
       "model_id": "",
       "version_major": 2,
       "version_minor": 0
      },
      "text/plain": [
       "FloatProgress(value=0.0, bar_style='info', description='Progress:', layout=Layout(height='25px', width='50%'),…"
      ]
     },
     "metadata": {},
     "output_type": "display_data"
    }
   ],
   "source": [
    "df_finish = df_extra_cols\n",
    "\n",
    "files_processed = [row.filename for row in df_finish.select('filename').distinct().collect()]\n",
    "dates = [datetime.strptime(row.date, \"%Y-%m-%d\") for row in df_finish.select('date').distinct().collect()]\n",
    "\n",
    "df_finish = df_extra_cols.select(['date', 'context', 'family', 'version', 'resource', 'status', 'response_time', 'timestamp'])\n",
    "\n",
    "df_finish.persist(StorageLevel.MEMORY_AND_DISK)\n",
    "\n",
    "#https://aws.amazon.com/premiumsupport/knowledge-center/s3-object-key-naming-pattern/\n",
    "#https://www.mikulskibartosz.name/partitioning-s3-data-by-date/\n",
    "\n",
    "for date in dates:\n",
    "    df_split = df_finish.filter(df_finish.date == date)\n",
    "    df_split.coalesce(1).write\\\n",
    "     .format(\"csv\")\\\n",
    "     .mode(\"append\")\\\n",
    "     .option(\"compression\",\"gzip\") \\\n",
    "     .save(f's3://wfercosta-spark/cleaned/analytical/daily/date={date.strftime(\"%Y-%m-%d\")}', header=True)\n",
    "\n",
    "\n"
   ]
  }
 ],
 "metadata": {
  "kernelspec": {
   "display_name": "PySpark",
   "language": "",
   "name": "pysparkkernel"
  },
  "language_info": {
   "codemirror_mode": {
    "name": "python",
    "version": 3
   },
   "mimetype": "text/x-python",
   "name": "pyspark",
   "pygments_lexer": "python3"
  }
 },
 "nbformat": 4,
 "nbformat_minor": 4
}
