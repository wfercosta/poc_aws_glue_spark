{
 "cells": [
  {
   "cell_type": "code",
   "execution_count": 103,
   "metadata": {},
   "outputs": [
    {
     "data": {
      "application/vnd.jupyter.widget-view+json": {
       "model_id": "",
       "version_major": 2,
       "version_minor": 0
      },
      "text/plain": [
       "FloatProgress(value=0.0, bar_style='info', description='Progress:', layout=Layout(height='25px', width='50%'),…"
      ]
     },
     "metadata": {},
     "output_type": "display_data"
    }
   ],
   "source": [
    "import json\n",
    "import re\n",
    "from awsglue.context import GlueContext\n",
    "from pyspark.sql import SparkSession, functions as F\n",
    "from pyspark.sql.types import StructField, StructType, StringType, LongType\n"
   ]
  },
  {
   "cell_type": "code",
   "execution_count": 105,
   "metadata": {},
   "outputs": [
    {
     "data": {
      "application/vnd.jupyter.widget-view+json": {
       "model_id": "",
       "version_major": 2,
       "version_minor": 0
      },
      "text/plain": [
       "FloatProgress(value=0.0, bar_style='info', description='Progress:', layout=Layout(height='25px', width='50%'),…"
      ]
     },
     "metadata": {},
     "output_type": "display_data"
    },
    {
     "name": "stdout",
     "output_type": "stream",
     "text": [
      "+----------+------+--------------------+-------------+--------------------+-------------------+\n",
      "|      date|status|            resource|response_time|            filename|          timestamp|\n",
      "+----------+------+--------------------+-------------+--------------------+-------------------+\n",
      "|2021-05-11|   502|/open-banking/acc...|        0.112|s3://wfercosta-sp...|2021-05-11 03:00:25|\n",
      "|2021-05-11|   502|                   /|        0.112|s3://wfercosta-sp...|2021-05-11 03:00:25|\n",
      "|2021-05-11|   502|                   /|        0.112|s3://wfercosta-sp...|2021-05-11 03:00:25|\n",
      "|2021-05-11|   502|                   /|        0.112|s3://wfercosta-sp...|2021-05-11 03:00:25|\n",
      "+----------+------+--------------------+-------------+--------------------+-------------------+"
     ]
    }
   ],
   "source": [
    "session = SparkSession.builder.appName(\"test\").getOrCreate() \n",
    "spark = session.sparkContext\n",
    "gc = GlueContext(spark)\n",
    "\n",
    "file =  's3://wfercosta-spark/logs/*.gz'\n",
    "\n",
    "schema = StructType([\n",
    "    StructField(\"date\", StringType(), True),\n",
    "    StructField(\"time\", StringType(), True),\n",
    "    StructField(\"x-edge-location\", StringType(), True),\n",
    "    StructField(\"sc-bytes\", StringType(), True),\n",
    "    StructField(\"c-ip\", StringType(), True),\n",
    "    StructField(\"cs-method\", StringType(), True),\n",
    "    StructField(\"cs(Host)\", StringType(), True),\n",
    "    StructField(\"cs-uri-stem\", StringType(), True),\n",
    "    StructField(\"sc-status\", StringType(), True),\n",
    "    StructField(\"cs(Referer)\", StringType(), True),\n",
    "    StructField(\"cs(User-Agent)\", StringType(), True),\n",
    "    StructField(\"cs-uri-query\", StringType(), True),\n",
    "    StructField(\"cs(Cookie)\", StringType(), True),\n",
    "    StructField(\"x-edge-result-type\", StringType(), True),\n",
    "    StructField(\"x-edge-request-id\", StringType(), True),\n",
    "    StructField(\"x-host-header\", StringType(), True),\n",
    "    StructField(\"cs-protocol\", StringType(), True),\n",
    "    StructField(\"cs-bytes\", StringType(), True),\n",
    "    StructField(\"time-taken\", StringType(), True),\n",
    "    StructField(\"x-forwarded-for\", StringType(), True),\n",
    "    StructField(\"ssl-protocol\", StringType(), True),\n",
    "    StructField(\"ssl-cipher\", StringType(), True),\n",
    "    StructField(\"x-edge-response-result-type\", StringType(), True),\n",
    "    StructField(\"cs-protocol-version\", StringType(), True),\n",
    "    StructField(\"fle-status\", StringType(), True),\n",
    "    StructField(\"fle-encrypted-fields\", StringType(), True),\n",
    "    StructField(\"c-port\", StringType(), True),\n",
    "    StructField(\"time-to-first-byte\", StringType(), True),\n",
    "    StructField(\"x-edge-detailed-result-type\", StringType(), True),\n",
    "    StructField(\"sc-content-type\", StringType(), True),\n",
    "    StructField(\"sc-content-len\", StringType(), True),\n",
    "    StructField(\"sc-range-start\", StringType(), True),\n",
    "    StructField(\"sc-range-end\", StringType(), True),\n",
    "])\n",
    "\n",
    "\n",
    "df = session.read.csv(file, sep=' ', header=False, schema=schema)\n",
    "df = df.withColumn(\"filename\", F.input_file_name())\n",
    "df = df.where(F.col('date').startswith(\"#\") == False)\n",
    "df = df.select(['date', 'time', 'sc-status', 'cs-uri-stem', 'time-taken', 'filename'])\n",
    "\n",
    "df = df.withColumnRenamed(\"sc-status\",\"status\")\n",
    "df = df.withColumnRenamed(\"cs-uri-stem\",\"resource\")\n",
    "df = df.withColumnRenamed(\"time-taken\",\"response_time\")\n",
    "df = df.withColumn(\"timestamp\", F.to_timestamp(F.concat(F.col('date'), F.lit(' '), F.col('time'))))\n",
    "df = df.drop(F.col('time'))\n",
    "\n",
    "df.show()"
   ]
  },
  {
   "cell_type": "code",
   "execution_count": 128,
   "metadata": {},
   "outputs": [
    {
     "data": {
      "application/vnd.jupyter.widget-view+json": {
       "model_id": "",
       "version_major": 2,
       "version_minor": 0
      },
      "text/plain": [
       "FloatProgress(value=0.0, bar_style='info', description='Progress:', layout=Layout(height='25px', width='50%'),…"
      ]
     },
     "metadata": {},
     "output_type": "display_data"
    },
    {
     "name": "stdout",
     "output_type": "stream",
     "text": [
      "+----------+------+-------------------------------------------------------------------+-------------+-------------------------------+-------------------+\n",
      "|date      |status|resource                                                           |response_time|filename                       |timestamp          |\n",
      "+----------+------+-------------------------------------------------------------------+-------------+-------------------------------+-------------------+\n",
      "|2021-05-11|502   |/open-banking/accounts/v1/accounts-urn/urn:isbn:0451450523/balances|0.112        |s3://wfercosta-spark/logs/f4.gz|2021-05-11 03:00:25|\n",
      "+----------+------+-------------------------------------------------------------------+-------------+-------------------------------+-------------------+"
     ]
    }
   ],
   "source": [
    "# Remove not required resourcs\n",
    "rgex_valid_apis = r'^\\/[a-z-_]+\\/[a-z-_]+\\/v[0-9]{1,2}\\/.+'\n",
    "df_rqd_res = df.filter(df.resource.rlike(rgex_valid_apis))\n",
    "df_rqd_res.show(1, False)\n"
   ]
  },
  {
   "cell_type": "code",
   "execution_count": 133,
   "metadata": {},
   "outputs": [
    {
     "data": {
      "application/vnd.jupyter.widget-view+json": {
       "model_id": "",
       "version_major": 2,
       "version_minor": 0
      },
      "text/plain": [
       "FloatProgress(value=0.0, bar_style='info', description='Progress:', layout=Layout(height='25px', width='50%'),…"
      ]
     },
     "metadata": {},
     "output_type": "display_data"
    },
    {
     "name": "stdout",
     "output_type": "stream",
     "text": [
      "+----------+------+--------------------+-------------+--------------------+-------------------+\n",
      "|      date|status|            resource|response_time|            filename|          timestamp|\n",
      "+----------+------+--------------------+-------------+--------------------+-------------------+\n",
      "|2021-05-11|   502|/open-banking/acc...|        0.112|s3://wfercosta-sp...|2021-05-11 03:00:25|\n",
      "+----------+------+--------------------+-------------+--------------------+-------------------+"
     ]
    }
   ],
   "source": [
    "#Normalize resoruce path variables with placeholders\n",
    "\n",
    "regex = r'\\/([0-9a-z]{8}-[0-9a-z]{4}-[0-9a-z]{4}-[0-9a-z]{4}-[0-9a-z]{12})|\\/(urn:[a-z0-9A-z]*:[a-z0-9A-z]+)|\\/([0-9]+)'\n",
    "\n",
    "df_norm_placeholders = df_rqd_res.withColumn('resource', F.regexp_replace('resource', regex, '\\/{param}'))\n",
    "\n",
    "df_norm_placeholders.show()"
   ]
  }
 ],
 "metadata": {
  "kernelspec": {
   "display_name": "PySpark",
   "language": "",
   "name": "pysparkkernel"
  },
  "language_info": {
   "codemirror_mode": {
    "name": "python",
    "version": 3
   },
   "mimetype": "text/x-python",
   "name": "pyspark",
   "pygments_lexer": "python3"
  }
 },
 "nbformat": 4,
 "nbformat_minor": 4
}
